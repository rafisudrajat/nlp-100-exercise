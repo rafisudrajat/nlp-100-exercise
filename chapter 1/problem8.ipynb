{
 "cells": [
  {
   "attachments": {},
   "cell_type": "markdown",
   "metadata": {},
   "source": [
    "# Problem: cipher text\n",
    "\n",
    "Implement a function cipher that converts a given string with the specification:\n",
    "<ul>\n",
    "    <li>\n",
    "        Every alphabetical lowercase letter c is converted to a letter whose ASCII code is (219 - [the ASCII code of c])\n",
    "    </li>\n",
    "    <li>\n",
    "        Keep other letters unchanged\n",
    "    </li>\n",
    "</ul>\n",
    "Use this function to cipher and decipher an English message."
   ]
  },
  {
   "cell_type": "code",
   "execution_count": 15,
   "metadata": {},
   "outputs": [
    {
     "data": {
      "text/plain": [
       "'This xruel world shall be doomed'"
      ]
     },
     "execution_count": 15,
     "metadata": {},
     "output_type": "execute_result"
    }
   ],
   "source": [
    "def chipher(msg:str):\n",
    "    msg_list=list(msg)\n",
    "    for i in range(len(msg_list)):\n",
    "        if msg_list[i]=='c':\n",
    "            msg_list[i]=chr(219-ord('c'))\n",
    "    return \"\".join(msg_list)\n",
    "    \n",
    "    \n",
    "chipher(\"This cruel world shall be doomed\")"
   ]
  }
 ],
 "metadata": {
  "kernelspec": {
   "display_name": "MLEnv",
   "language": "python",
   "name": "python3"
  },
  "language_info": {
   "codemirror_mode": {
    "name": "ipython",
    "version": 3
   },
   "file_extension": ".py",
   "mimetype": "text/x-python",
   "name": "python",
   "nbconvert_exporter": "python",
   "pygments_lexer": "ipython3",
   "version": "3.10.11"
  },
  "orig_nbformat": 4
 },
 "nbformat": 4,
 "nbformat_minor": 2
}
