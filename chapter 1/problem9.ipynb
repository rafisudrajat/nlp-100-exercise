{
 "cells": [
  {
   "attachments": {},
   "cell_type": "markdown",
   "metadata": {},
   "source": [
    "# Problem: Typoglycemia\n",
    "Write a program with the specification:\n",
    "<ul>\n",
    "    <li>\n",
    "        Receive a word sequence separated by space\n",
    "    </li>\n",
    "    <li>\n",
    "        For each word in the sequence:\n",
    "    </li>\n",
    "    <ul>\n",
    "        <li>\n",
    "        If the word is no longer than four letters, keep the word unchanged\n",
    "        </li>\n",
    "        <li>\n",
    "            Otherwise:\n",
    "            <ul>\n",
    "                <li>\n",
    "                    Keep the first and last letters unchanged\n",
    "                </li>\n",
    "                <li>\n",
    "                    Shuffle other letters in other positions (in the middle of the word)\n",
    "                </li>\n",
    "            </ul>\n",
    "        </li>\n",
    "    </ul>  \n",
    "</ul>\n",
    "\n",
    "\n",
    "Observe the result by giving a sentence, e.g., “I couldn’t believe that I could actually understand what I was reading : the phenomenal power of the human mind “."
   ]
  },
  {
   "cell_type": "code",
   "execution_count": 5,
   "metadata": {},
   "outputs": [
    {
     "name": "stdout",
     "output_type": "stream",
     "text": [
      "I c’odlunt beileve that I cuold altlaucy uarnetndsd what I was rendaig : the pnoeeanmhl pweor of the huamn mind \n"
     ]
    }
   ],
   "source": [
    "import random\n",
    "\n",
    "def typoglyc_gen(msg):\n",
    "    msg_list=msg.split(\" \")\n",
    "    for i in range(len(msg_list)):\n",
    "        if len(msg_list[i])>4:\n",
    "            word_list=list(msg_list[i])\n",
    "            middle_word=word_list[1:len(word_list)-1]\n",
    "            random.shuffle(middle_word)\n",
    "            for j in range(len(middle_word)):\n",
    "                word_list[j+1]=middle_word[j]\n",
    "            msg_list[i]=\"\".join(word_list)\n",
    "    return \" \".join(msg_list)\n",
    "\n",
    "print(typoglyc_gen(\"I couldn’t believe that I could actually understand what I was reading : the phenomenal power of the human mind \"))"
   ]
  },
  {
   "cell_type": "code",
   "execution_count": null,
   "metadata": {},
   "outputs": [],
   "source": []
  }
 ],
 "metadata": {
  "kernelspec": {
   "display_name": "MLEnv",
   "language": "python",
   "name": "python3"
  },
  "language_info": {
   "codemirror_mode": {
    "name": "ipython",
    "version": 3
   },
   "file_extension": ".py",
   "mimetype": "text/x-python",
   "name": "python",
   "nbconvert_exporter": "python",
   "pygments_lexer": "ipython3",
   "version": "3.10.11"
  },
  "orig_nbformat": 4
 },
 "nbformat": 4,
 "nbformat_minor": 2
}
