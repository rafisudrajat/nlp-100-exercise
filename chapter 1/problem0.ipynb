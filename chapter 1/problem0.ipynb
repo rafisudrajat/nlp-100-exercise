{
 "cells": [
  {
   "attachments": {},
   "cell_type": "markdown",
   "metadata": {},
   "source": [
    "# Problem: Reversed string\n",
    "Obtain the string that arranges letters of the string “stressed” in reverse order (tail to head)."
   ]
  },
  {
   "cell_type": "code",
   "execution_count": 3,
   "metadata": {},
   "outputs": [
    {
     "name": "stdout",
     "output_type": "stream",
     "text": [
      "usa\n"
     ]
    }
   ],
   "source": [
    "#O(n) solution\n",
    "str2rev=\"stressed\"\n",
    "\n",
    "# str2rev=\"stressed\"\n",
    "# Strategy: use two pointer, first point the head and second point the tail and then consecutively change character in the head and tail. \n",
    "# then repeat it until head >= tail\n",
    "\n",
    "pHead=0\n",
    "pTail=len(str2rev)-1\n",
    "\n",
    "list_str=list(str2rev)\n",
    "while pHead<pTail:\n",
    "    list_str[pHead], list_str[pTail] = list_str[pTail], list_str[pHead]\n",
    "    pHead+=1\n",
    "    pTail-=1\n",
    "\n",
    "result=\"\".join(list_str)\n",
    "print(result)\n"
   ]
  },
  {
   "cell_type": "code",
   "execution_count": null,
   "metadata": {},
   "outputs": [],
   "source": []
  }
 ],
 "metadata": {
  "kernelspec": {
   "display_name": "MLEnv",
   "language": "python",
   "name": "python3"
  },
  "language_info": {
   "codemirror_mode": {
    "name": "ipython",
    "version": 3
   },
   "file_extension": ".py",
   "mimetype": "text/x-python",
   "name": "python",
   "nbconvert_exporter": "python",
   "pygments_lexer": "ipython3",
   "version": "3.10.11"
  },
  "orig_nbformat": 4
 },
 "nbformat": 4,
 "nbformat_minor": 2
}
