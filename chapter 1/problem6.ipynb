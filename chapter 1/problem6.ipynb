{
 "cells": [
  {
   "attachments": {},
   "cell_type": "markdown",
   "metadata": {},
   "source": [
    "# Problem: Set\n",
    "\n",
    "Let the sets of letter bi-grams from the words “paraparaparadise” and “paragraph” \\$X$ and \\$Y$, respectively. Obtain the union, intersection, difference of the two sets. In addition, check whether the bigram “se” is included in the sets \\$X$ and \\$Y$"
   ]
  },
  {
   "cell_type": "code",
   "execution_count": 5,
   "metadata": {},
   "outputs": [],
   "source": [
    "def n_gram_gen(strInput:str, n:int):\n",
    "    if n>len(strInput):\n",
    "        print(\"n must be less than number of words\")\n",
    "        return\n",
    "    pointer=n-1\n",
    "    result=[]\n",
    "    while pointer<len(strInput):\n",
    "        # (el_num-n+1) * n = n*el_num-n^2+n\n",
    "        result.append(strInput[pointer-n+1:pointer+1])\n",
    "        pointer+=1\n",
    "    return result"
   ]
  },
  {
   "cell_type": "code",
   "execution_count": 10,
   "metadata": {},
   "outputs": [
    {
     "name": "stdout",
     "output_type": "stream",
     "text": [
      "Union {'is', 'se', 'ad', 'ap', 'gr', 'ag', 'ar', 'di', 'pa', 'ra', 'ph'}\n",
      "Intersection {'ap', 'pa', 'ar', 'ra'}\n",
      "Difference {'is', 'ad', 'se', 'di'}\n"
     ]
    }
   ],
   "source": [
    "X=set(n_gram_gen(\"paraparaparadise\",2))\n",
    "Y=set(n_gram_gen(\"paragraph\",2))\n",
    "print(\"Union\", X|Y)\n",
    "print(\"Intersection\",X&Y)\n",
    "print(\"Difference\",X-Y)"
   ]
  },
  {
   "cell_type": "code",
   "execution_count": null,
   "metadata": {},
   "outputs": [],
   "source": []
  }
 ],
 "metadata": {
  "kernelspec": {
   "display_name": "MLEnv",
   "language": "python",
   "name": "python3"
  },
  "language_info": {
   "codemirror_mode": {
    "name": "ipython",
    "version": 3
   },
   "file_extension": ".py",
   "mimetype": "text/x-python",
   "name": "python",
   "nbconvert_exporter": "python",
   "pygments_lexer": "ipython3",
   "version": "3.10.11"
  },
  "orig_nbformat": 4
 },
 "nbformat": 4,
 "nbformat_minor": 2
}
