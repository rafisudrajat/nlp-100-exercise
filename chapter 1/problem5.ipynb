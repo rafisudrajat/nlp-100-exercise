{
 "cells": [
  {
   "attachments": {},
   "cell_type": "markdown",
   "metadata": {},
   "source": [
    "# Problem: n-gram\n",
    "Implement a function that obtains n-grams from a given sequence object (e.g., string and list). Use this function to obtain word bi-grams and letter bi-grams from the sentence “I am an NLPer”"
   ]
  },
  {
   "cell_type": "code",
   "execution_count": 10,
   "metadata": {},
   "outputs": [],
   "source": [
    "str_input=\"I am an NLPer\"\n",
    "\n",
    "def n_gram_gen(strInput:str, n:int):\n",
    "    list_input=strInput.split(\" \")\n",
    "    if n>len(list_input):\n",
    "        print(\"n must be less than number of words\")\n",
    "        return\n",
    "    pointer=n-1\n",
    "    result=[]\n",
    "    while pointer<len(list_input):\n",
    "        # (el_num-n+1) * n = n*el_num-n^2+n\n",
    "        result.append(list_input[pointer-n+1:pointer+1])\n",
    "        pointer+=1\n",
    "    return result\n"
   ]
  },
  {
   "cell_type": "code",
   "execution_count": 12,
   "metadata": {},
   "outputs": [
    {
     "name": "stdout",
     "output_type": "stream",
     "text": [
      "[['I', 'am', 'an'], ['am', 'an', 'NLPer']]\n"
     ]
    }
   ],
   "source": [
    "print(n_gram_gen(str_input,2))\n",
    "print(n_gram_gen(str_input,3))"
   ]
  },
  {
   "attachments": {},
   "cell_type": "markdown",
   "metadata": {},
   "source": [
    "# Strategy\n",
    "\n",
    "1. split a sentence into an array of words based on whitespace separator\n",
    "2. place a window with wide n-element into the array, where n is the number of words in the desired n-gram model\n",
    "3. copy all elements inside the window into a new array and insert that array into the result array\n",
    "4. move the window to the right (towards the direction of increasing array index of words array)\n",
    "5. iterate untill last element\n",
    "\n",
    "## complexity analysis\n",
    "define:  \n",
    "n = number of word in n-gram model  \n",
    "elem_num = number of words in a sentence that becomes input to the function\n",
    "\n",
    "the complexity is $O((elem\\_num-n+1)*n)= O(n\\cdot elem\\_num-n^2+n)$\n"
   ]
  },
  {
   "cell_type": "code",
   "execution_count": null,
   "metadata": {},
   "outputs": [],
   "source": []
  }
 ],
 "metadata": {
  "kernelspec": {
   "display_name": "MLEnv",
   "language": "python",
   "name": "python3"
  },
  "language_info": {
   "codemirror_mode": {
    "name": "ipython",
    "version": 3
   },
   "file_extension": ".py",
   "mimetype": "text/x-python",
   "name": "python",
   "nbconvert_exporter": "python",
   "pygments_lexer": "ipython3",
   "version": "3.10.11"
  },
  "orig_nbformat": 4
 },
 "nbformat": 4,
 "nbformat_minor": 2
}
