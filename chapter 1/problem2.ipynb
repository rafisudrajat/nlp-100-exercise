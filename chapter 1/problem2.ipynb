{
 "cells": [
  {
   "attachments": {},
   "cell_type": "markdown",
   "metadata": {},
   "source": [
    "# Problem: “shoe” + “cold” = “schooled”\n",
    "\n",
    "Obtain the string “schooled” by concatenating the letters in “shoe” and “cold” one after the other from head to tail."
   ]
  },
  {
   "cell_type": "code",
   "execution_count": 1,
   "metadata": {},
   "outputs": [
    {
     "name": "stdout",
     "output_type": "stream",
     "text": [
      "schooled\n"
     ]
    }
   ],
   "source": [
    "# Strategy:\n",
    "# O(n)\n",
    "# 1. Using two pointer, initially pointer 1 points to first char in first string and pointer 2 points to second char in second string\n",
    "# 2. Concatenate the char that pointed by first pointer and second pointer consecutively\n",
    "# 3. Increase pointer 1 and pointer 2 by 1\n",
    "# 4. Repeat until last char\n",
    "\n",
    "str1=\"shoe\"\n",
    "str2=\"cold\"\n",
    "\n",
    "ptr1=0\n",
    "ptr2=0\n",
    "result=\"\"\n",
    "while ptr1<len(str1) and ptr2<len(str2):\n",
    "    result+=str1[ptr1]+str2[ptr2]\n",
    "    ptr1+=1\n",
    "    ptr2+=1\n",
    "print(result)"
   ]
  },
  {
   "cell_type": "code",
   "execution_count": null,
   "metadata": {},
   "outputs": [],
   "source": []
  }
 ],
 "metadata": {
  "kernelspec": {
   "display_name": "MLEnv",
   "language": "python",
   "name": "python3"
  },
  "language_info": {
   "codemirror_mode": {
    "name": "ipython",
    "version": 3
   },
   "file_extension": ".py",
   "mimetype": "text/x-python",
   "name": "python",
   "nbconvert_exporter": "python",
   "pygments_lexer": "ipython3",
   "version": "3.10.11"
  },
  "orig_nbformat": 4
 },
 "nbformat": 4,
 "nbformat_minor": 2
}
