{
 "cells": [
  {
   "attachments": {},
   "cell_type": "markdown",
   "metadata": {},
   "source": [
    "# Problem 4: Atomic symbols\n",
    "Split the sentence “Hi He Lied Because Boron Could Not Oxidize Fluorine. New Nations Might Also Sign Peace Security Clause. Arthur King Can”. into words, and extract the first letter from the 1st, 5th, 6th, 7th, 8th, 9th, 15th, 16th, 19th words and the first two letters from the other words. Create an associative array (dictionary object or mapping object) that maps from the extracted string to the position (offset in the sentence) of the corresponding word"
   ]
  },
  {
   "cell_type": "code",
   "execution_count": 17,
   "metadata": {},
   "outputs": [],
   "source": [
    "def dict_mapping(list1:list[str],list2:list[int],dict_result:dict):\n",
    "    for i in range(len(list1)):\n",
    "        dict_result[list1[i]]=list2[i]\n",
    "    "
   ]
  },
  {
   "cell_type": "code",
   "execution_count": 20,
   "metadata": {},
   "outputs": [
    {
     "name": "stdout",
     "output_type": "stream",
     "text": [
      "{'H': 1, 'B': 5, 'C': 6, 'N': 7, 'O': 8, 'F': 9, 'P': 15, 'S': 16, 'K': 19, 'He': 2, 'Li': 3, 'Be': 4, 'Ne': 10, 'Na': 11, 'Mi': 12, 'Al': 13, 'Si': 14, 'Cl': 17, 'Ar': 18, 'Ca': 20}\n"
     ]
    }
   ],
   "source": [
    "str_input=\"Hi He Lied Because Boron Could Not Oxidize Fluorine. New Nations Might Also Sign Peace Security Clause. Arthur King Can\"\n",
    "str_input=str_input.replace(\".\",\"\")\n",
    "list_words=str_input.split(\" \")\n",
    "\n",
    "idx_letter1=[0,4,5,6,7,8,14,15,18]\n",
    "words1=[list_words[i] for i in idx_letter1]\n",
    "idx_letter2=[i for i in range(20) if i not in set(idx_letter1)]\n",
    "words2=[list_words[i] for i in idx_letter2]\n",
    "\n",
    "f1_letter=[word[0] for word in words1]\n",
    "f2_letter=[word[0:2] for word in words2]\n",
    "\n",
    "dict_res={}\n",
    "\n",
    "dict_mapping(f1_letter,[i+1 for i in idx_letter1],dict_res)\n",
    "dict_mapping(f2_letter,[i+1 for i in idx_letter2],dict_res)\n",
    "\n",
    "print(dict_res)"
   ]
  },
  {
   "cell_type": "code",
   "execution_count": null,
   "metadata": {},
   "outputs": [],
   "source": []
  }
 ],
 "metadata": {
  "kernelspec": {
   "display_name": "MLEnv",
   "language": "python",
   "name": "python3"
  },
  "language_info": {
   "codemirror_mode": {
    "name": "ipython",
    "version": 3
   },
   "file_extension": ".py",
   "mimetype": "text/x-python",
   "name": "python",
   "nbconvert_exporter": "python",
   "pygments_lexer": "ipython3",
   "version": "3.10.11"
  },
  "orig_nbformat": 4
 },
 "nbformat": 4,
 "nbformat_minor": 2
}
